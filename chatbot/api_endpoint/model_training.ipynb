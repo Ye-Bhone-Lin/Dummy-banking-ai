{
 "cells": [
  {
   "cell_type": "code",
   "execution_count": 1,
   "id": "74ebdde7",
   "metadata": {},
   "outputs": [],
   "source": [
    "import psycopg2\n",
    "import os \n",
    "from dotenv import load_dotenv \n",
    "\n",
    "load_dotenv()\n",
    "\n",
    "DB_URI = os.getenv(\"DB_URI\")\n",
    "conn = psycopg2.connect(DB_URI)\n",
    "\n",
    "cur = conn.cursor()"
   ]
  },
  {
   "cell_type": "code",
   "execution_count": 2,
   "id": "1b016644",
   "metadata": {},
   "outputs": [],
   "source": [
    "cur.execute(\"SELECT * FROM faq;\")"
   ]
  },
  {
   "cell_type": "code",
   "execution_count": 3,
   "id": "f922a4b7",
   "metadata": {},
   "outputs": [],
   "source": [
    "cur.execute(\"\"\"SELECT column_name\n",
    "FROM information_schema.columns\n",
    "WHERE table_name = 'faq';\n",
    "\"\"\")"
   ]
  },
  {
   "cell_type": "code",
   "execution_count": 4,
   "id": "42fb5bbe",
   "metadata": {},
   "outputs": [
    {
     "name": "stdout",
     "output_type": "stream",
     "text": [
      "('id',)\n",
      "('faq_category_id',)\n",
      "('created_at',)\n",
      "('updated_at',)\n",
      "('question',)\n",
      "('answer',)\n"
     ]
    }
   ],
   "source": [
    "column_name = cur.fetchall()\n",
    "for row in column_name:\n",
    "    print(row)"
   ]
  },
  {
   "cell_type": "code",
   "execution_count": 5,
   "id": "968cd4b2",
   "metadata": {},
   "outputs": [],
   "source": [
    "rows = cur.fetchall()"
   ]
  },
  {
   "cell_type": "code",
   "execution_count": 6,
   "id": "cb9b5545",
   "metadata": {},
   "outputs": [],
   "source": [
    "cur.execute(\"SELECT question FROM faq;\")"
   ]
  },
  {
   "cell_type": "code",
   "execution_count": 7,
   "id": "fe34688e",
   "metadata": {},
   "outputs": [],
   "source": [
    "question_rows = cur.fetchall()"
   ]
  },
  {
   "cell_type": "code",
   "execution_count": 8,
   "id": "a3c58a7f",
   "metadata": {},
   "outputs": [
    {
     "data": {
      "text/plain": [
       "[('How do I open a mobile banking account?',),\n",
       " ('Can I have multiple accounts linked to the same app?',),\n",
       " ('How do I reset my password?',),\n",
       " ('Is mobile banking safe to use?',),\n",
       " ('What should I do if I suspect fraudulent activity?',),\n",
       " ('Does the app store my card details?',),\n",
       " ('How do I transfer money to another bank account?',),\n",
       " ('Is there a transfer limit?',),\n",
       " ('Can I schedule recurring payments?',),\n",
       " ('Does the app work without internet?',),\n",
       " ('How do I update the app?',),\n",
       " ('Can I use the app on multiple devices?',),\n",
       " ('What should I do if the app crashes?',),\n",
       " ('Why am I not receiving OTPs?',),\n",
       " ('How can I contact customer support?',)]"
      ]
     },
     "execution_count": 8,
     "metadata": {},
     "output_type": "execute_result"
    }
   ],
   "source": [
    "question_rows"
   ]
  },
  {
   "cell_type": "code",
   "execution_count": 9,
   "id": "488dc88a",
   "metadata": {},
   "outputs": [
    {
     "name": "stdout",
     "output_type": "stream",
     "text": [
      "('How do I open a mobile banking account?',)\n",
      "('Can I have multiple accounts linked to the same app?',)\n",
      "('How do I reset my password?',)\n",
      "('Is mobile banking safe to use?',)\n",
      "('What should I do if I suspect fraudulent activity?',)\n",
      "('Does the app store my card details?',)\n",
      "('How do I transfer money to another bank account?',)\n",
      "('Is there a transfer limit?',)\n",
      "('Can I schedule recurring payments?',)\n",
      "('Does the app work without internet?',)\n",
      "('How do I update the app?',)\n",
      "('Can I use the app on multiple devices?',)\n",
      "('What should I do if the app crashes?',)\n",
      "('Why am I not receiving OTPs?',)\n",
      "('How can I contact customer support?',)\n"
     ]
    }
   ],
   "source": [
    "for question_row in question_rows:\n",
    "    print(question_row)"
   ]
  },
  {
   "cell_type": "code",
   "execution_count": 10,
   "id": "49e64268",
   "metadata": {},
   "outputs": [],
   "source": [
    "cur.execute(\"SELECT answer FROM faq;\")"
   ]
  },
  {
   "cell_type": "code",
   "execution_count": 11,
   "id": "1e547c14",
   "metadata": {},
   "outputs": [
    {
     "name": "stdout",
     "output_type": "stream",
     "text": [
      "('You can open an account by downloading our mobile banking app and completing the registration form using your phone number, national ID, and email address.',)\n",
      "('Yes, you can link multiple accounts under the same profile by adding them in the “Linked Accounts” section from Settings.',)\n",
      "('On the login screen, tap “Forgot Password”, then follow the instructions sent to your registered phone number or email to reset it.',)\n",
      "('Yes. Our app uses end-to-end encryption and multi-factor authentication to protect your data and transactions.',)\n",
      "('Immediately lock your account using the “Freeze Account” option in the app and contact our support center for assistance.',)\n",
      "('No. Your card details are encrypted and securely stored in compliance with banking security standards.',)\n",
      "('Go to “Transfers” → “External Transfer”, enter the recipient’s bank details, and confirm with your PIN or biometric authentication.',)\n",
      "('Yes, daily transfer limits depend on your account type. You can view or request an increase in the “Limits” section under Settings.',)\n",
      "('Yes, you can set up recurring payments from the “Scheduled Transfers” option for bills, rent, or subscriptions.',)\n",
      "('No, you need an active internet connection to use mobile banking services.',)\n",
      "('Visit the Google Play Store or Apple App Store, search for our app, and tap “Update”.',)\n",
      "('Yes, but you must verify each device using OTP authentication during login.',)\n",
      "('Try restarting your device and updating the app to the latest version. If the problem persists, contact customer support.',)\n",
      "('Ensure your phone number is active and not blocking SMS messages from short codes. You can also resend OTP after 30 seconds.',)\n",
      "('You can reach us via in-app chat, call our hotline, or email support@mobilebank.com for assistance.',)\n"
     ]
    }
   ],
   "source": [
    "answer_rows = cur.fetchall()\n",
    "for answer_row in answer_rows:\n",
    "    print(answer_row)"
   ]
  },
  {
   "cell_type": "code",
   "execution_count": null,
   "id": "8cdc5f6a",
   "metadata": {},
   "outputs": [],
   "source": []
  },
  {
   "cell_type": "code",
   "execution_count": 12,
   "id": "c0f8dcc7",
   "metadata": {},
   "outputs": [
    {
     "data": {
      "text/plain": [
       "{('How do I open a mobile banking account?',): ('You can open an account by downloading our mobile banking app and completing the registration form using your phone number, national ID, and email address.',),\n",
       " ('Can I have multiple accounts linked to the same app?',): ('Yes, you can link multiple accounts under the same profile by adding them in the “Linked Accounts” section from Settings.',),\n",
       " ('How do I reset my password?',): ('On the login screen, tap “Forgot Password”, then follow the instructions sent to your registered phone number or email to reset it.',),\n",
       " ('Is mobile banking safe to use?',): ('Yes. Our app uses end-to-end encryption and multi-factor authentication to protect your data and transactions.',),\n",
       " ('What should I do if I suspect fraudulent activity?',): ('Immediately lock your account using the “Freeze Account” option in the app and contact our support center for assistance.',),\n",
       " ('Does the app store my card details?',): ('No. Your card details are encrypted and securely stored in compliance with banking security standards.',),\n",
       " ('How do I transfer money to another bank account?',): ('Go to “Transfers” → “External Transfer”, enter the recipient’s bank details, and confirm with your PIN or biometric authentication.',),\n",
       " ('Is there a transfer limit?',): ('Yes, daily transfer limits depend on your account type. You can view or request an increase in the “Limits” section under Settings.',),\n",
       " ('Can I schedule recurring payments?',): ('Yes, you can set up recurring payments from the “Scheduled Transfers” option for bills, rent, or subscriptions.',),\n",
       " ('Does the app work without internet?',): ('No, you need an active internet connection to use mobile banking services.',),\n",
       " ('How do I update the app?',): ('Visit the Google Play Store or Apple App Store, search for our app, and tap “Update”.',),\n",
       " ('Can I use the app on multiple devices?',): ('Yes, but you must verify each device using OTP authentication during login.',),\n",
       " ('What should I do if the app crashes?',): ('Try restarting your device and updating the app to the latest version. If the problem persists, contact customer support.',),\n",
       " ('Why am I not receiving OTPs?',): ('Ensure your phone number is active and not blocking SMS messages from short codes. You can also resend OTP after 30 seconds.',),\n",
       " ('How can I contact customer support?',): ('You can reach us via in-app chat, call our hotline, or email support@mobilebank.com for assistance.',)}"
      ]
     },
     "execution_count": 12,
     "metadata": {},
     "output_type": "execute_result"
    }
   ],
   "source": [
    "concat_qa = dict(zip(question_rows, answer_rows))\n",
    "concat_qa"
   ]
  },
  {
   "cell_type": "code",
   "execution_count": 13,
   "id": "3752676b",
   "metadata": {},
   "outputs": [
    {
     "data": {
      "text/plain": [
       "{'How do I open a mobile banking account?': 'You can open an account by downloading our mobile banking app and completing the registration form using your phone number, national ID, and email address.',\n",
       " 'Can I have multiple accounts linked to the same app?': 'Yes, you can link multiple accounts under the same profile by adding them in the “Linked Accounts” section from Settings.',\n",
       " 'How do I reset my password?': 'On the login screen, tap “Forgot Password”, then follow the instructions sent to your registered phone number or email to reset it.',\n",
       " 'Is mobile banking safe to use?': 'Yes. Our app uses end-to-end encryption and multi-factor authentication to protect your data and transactions.',\n",
       " 'What should I do if I suspect fraudulent activity?': 'Immediately lock your account using the “Freeze Account” option in the app and contact our support center for assistance.',\n",
       " 'Does the app store my card details?': 'No. Your card details are encrypted and securely stored in compliance with banking security standards.',\n",
       " 'How do I transfer money to another bank account?': 'Go to “Transfers” → “External Transfer”, enter the recipient’s bank details, and confirm with your PIN or biometric authentication.',\n",
       " 'Is there a transfer limit?': 'Yes, daily transfer limits depend on your account type. You can view or request an increase in the “Limits” section under Settings.',\n",
       " 'Can I schedule recurring payments?': 'Yes, you can set up recurring payments from the “Scheduled Transfers” option for bills, rent, or subscriptions.',\n",
       " 'Does the app work without internet?': 'No, you need an active internet connection to use mobile banking services.',\n",
       " 'How do I update the app?': 'Visit the Google Play Store or Apple App Store, search for our app, and tap “Update”.',\n",
       " 'Can I use the app on multiple devices?': 'Yes, but you must verify each device using OTP authentication during login.',\n",
       " 'What should I do if the app crashes?': 'Try restarting your device and updating the app to the latest version. If the problem persists, contact customer support.',\n",
       " 'Why am I not receiving OTPs?': 'Ensure your phone number is active and not blocking SMS messages from short codes. You can also resend OTP after 30 seconds.',\n",
       " 'How can I contact customer support?': 'You can reach us via in-app chat, call our hotline, or email support@mobilebank.com for assistance.'}"
      ]
     },
     "execution_count": 13,
     "metadata": {},
     "output_type": "execute_result"
    }
   ],
   "source": [
    "sg_q = [question[0] for question, answer in concat_qa.items()]\n",
    "sg_a = [answer[0] for question, answer in concat_qa.items()]\n",
    "\n",
    "final_db = dict(zip(sg_q, sg_a))\n",
    "final_db"
   ]
  },
  {
   "cell_type": "code",
   "execution_count": 14,
   "id": "c90028ce",
   "metadata": {},
   "outputs": [
    {
     "name": "stderr",
     "output_type": "stream",
     "text": [
      "/Users/yebhonelin/.local/share/virtualenvs/ai-banking-app-backend-x5LFxkJZ/lib/python3.9/site-packages/urllib3/__init__.py:35: NotOpenSSLWarning: urllib3 v2 only supports OpenSSL 1.1.1+, currently the 'ssl' module is compiled with 'LibreSSL 2.8.3'. See: https://github.com/urllib3/urllib3/issues/3020\n",
      "  warnings.warn(\n",
      "[nltk_data] Downloading package punkt to\n",
      "[nltk_data]     /Users/yebhonelin/nltk_data...\n",
      "[nltk_data]   Package punkt is already up-to-date!\n"
     ]
    },
    {
     "data": {
      "text/plain": [
       "True"
      ]
     },
     "execution_count": 14,
     "metadata": {},
     "output_type": "execute_result"
    }
   ],
   "source": [
    "from gensim.models.doc2vec import Doc2Vec, TaggedDocument\n",
    "from nltk.tokenize import word_tokenize \n",
    "import nltk \n",
    "\n",
    "nltk.download(\"punkt\")"
   ]
  },
  {
   "cell_type": "code",
   "execution_count": 15,
   "id": "89e9fef3",
   "metadata": {},
   "outputs": [
    {
     "data": {
      "text/plain": [
       "[['how', 'do', 'i', 'open', 'a', 'mobile', 'banking', 'account', '?'],\n",
       " ['can',\n",
       "  'i',\n",
       "  'have',\n",
       "  'multiple',\n",
       "  'accounts',\n",
       "  'linked',\n",
       "  'to',\n",
       "  'the',\n",
       "  'same',\n",
       "  'app',\n",
       "  '?'],\n",
       " ['how', 'do', 'i', 'reset', 'my', 'password', '?'],\n",
       " ['is', 'mobile', 'banking', 'safe', 'to', 'use', '?'],\n",
       " ['what',\n",
       "  'should',\n",
       "  'i',\n",
       "  'do',\n",
       "  'if',\n",
       "  'i',\n",
       "  'suspect',\n",
       "  'fraudulent',\n",
       "  'activity',\n",
       "  '?'],\n",
       " ['does', 'the', 'app', 'store', 'my', 'card', 'details', '?'],\n",
       " ['how',\n",
       "  'do',\n",
       "  'i',\n",
       "  'transfer',\n",
       "  'money',\n",
       "  'to',\n",
       "  'another',\n",
       "  'bank',\n",
       "  'account',\n",
       "  '?'],\n",
       " ['is', 'there', 'a', 'transfer', 'limit', '?'],\n",
       " ['can', 'i', 'schedule', 'recurring', 'payments', '?'],\n",
       " ['does', 'the', 'app', 'work', 'without', 'internet', '?'],\n",
       " ['how', 'do', 'i', 'update', 'the', 'app', '?'],\n",
       " ['can', 'i', 'use', 'the', 'app', 'on', 'multiple', 'devices', '?'],\n",
       " ['what', 'should', 'i', 'do', 'if', 'the', 'app', 'crashes', '?'],\n",
       " ['why', 'am', 'i', 'not', 'receiving', 'otps', '?'],\n",
       " ['how', 'can', 'i', 'contact', 'customer', 'support', '?']]"
      ]
     },
     "execution_count": 15,
     "metadata": {},
     "output_type": "execute_result"
    }
   ],
   "source": [
    "tokenized_data = [word_tokenize(document.lower()) for document in final_db]\n",
    "tokenized_data"
   ]
  },
  {
   "cell_type": "code",
   "execution_count": 16,
   "id": "f2057af3",
   "metadata": {},
   "outputs": [
    {
     "data": {
      "text/plain": [
       "[TaggedDocument(words=['how', 'do', 'i', 'open', 'a', 'mobile', 'banking', 'account', '?'], tags=['0']),\n",
       " TaggedDocument(words=['can', 'i', 'have', 'multiple', 'accounts', 'linked', 'to', 'the', 'same', 'app', '?'], tags=['1']),\n",
       " TaggedDocument(words=['how', 'do', 'i', 'reset', 'my', 'password', '?'], tags=['2']),\n",
       " TaggedDocument(words=['is', 'mobile', 'banking', 'safe', 'to', 'use', '?'], tags=['3']),\n",
       " TaggedDocument(words=['what', 'should', 'i', 'do', 'if', 'i', 'suspect', 'fraudulent', 'activity', '?'], tags=['4']),\n",
       " TaggedDocument(words=['does', 'the', 'app', 'store', 'my', 'card', 'details', '?'], tags=['5']),\n",
       " TaggedDocument(words=['how', 'do', 'i', 'transfer', 'money', 'to', 'another', 'bank', 'account', '?'], tags=['6']),\n",
       " TaggedDocument(words=['is', 'there', 'a', 'transfer', 'limit', '?'], tags=['7']),\n",
       " TaggedDocument(words=['can', 'i', 'schedule', 'recurring', 'payments', '?'], tags=['8']),\n",
       " TaggedDocument(words=['does', 'the', 'app', 'work', 'without', 'internet', '?'], tags=['9']),\n",
       " TaggedDocument(words=['how', 'do', 'i', 'update', 'the', 'app', '?'], tags=['10']),\n",
       " TaggedDocument(words=['can', 'i', 'use', 'the', 'app', 'on', 'multiple', 'devices', '?'], tags=['11']),\n",
       " TaggedDocument(words=['what', 'should', 'i', 'do', 'if', 'the', 'app', 'crashes', '?'], tags=['12']),\n",
       " TaggedDocument(words=['why', 'am', 'i', 'not', 'receiving', 'otps', '?'], tags=['13']),\n",
       " TaggedDocument(words=['how', 'can', 'i', 'contact', 'customer', 'support', '?'], tags=['14'])]"
      ]
     },
     "execution_count": 16,
     "metadata": {},
     "output_type": "execute_result"
    }
   ],
   "source": [
    "tagged_data = [TaggedDocument(words=words, tags=[str(idx)])\n",
    "               for idx, words in enumerate(tokenized_data)]\n",
    "\n",
    "tagged_data"
   ]
  },
  {
   "cell_type": "code",
   "execution_count": 17,
   "id": "56b8f517",
   "metadata": {},
   "outputs": [],
   "source": [
    "model = Doc2Vec(vector_size=100, window=2, min_count=1, workers=4, epochs=1000)\n",
    "model.build_vocab(tagged_data)\n",
    "model.train(tagged_data, total_examples=model.corpus_count,\n",
    "            epochs=model.epochs)"
   ]
  },
  {
   "cell_type": "code",
   "execution_count": 18,
   "id": "381284da",
   "metadata": {},
   "outputs": [],
   "source": [
    "model.save(\"doc2vec_model.model\")"
   ]
  },
  {
   "cell_type": "code",
   "execution_count": 19,
   "id": "1d2dd18c",
   "metadata": {},
   "outputs": [
    {
     "name": "stdout",
     "output_type": "stream",
     "text": [
      "Original Document: How to login to banking account\n"
     ]
    }
   ],
   "source": [
    "new_document = \"How to login to banking account\"\n",
    "print('Original Document:', new_document)"
   ]
  },
  {
   "cell_type": "code",
   "execution_count": 23,
   "id": "c940ae45",
   "metadata": {},
   "outputs": [],
   "source": [
    "model = Doc2Vec.load(\"doc2vec_model.model\")"
   ]
  },
  {
   "cell_type": "code",
   "execution_count": 24,
   "id": "73fc4024",
   "metadata": {},
   "outputs": [],
   "source": [
    "inferred_vector = model.infer_vector(word_tokenize(new_document.lower()))"
   ]
  },
  {
   "cell_type": "code",
   "execution_count": 25,
   "id": "2f7fcc04",
   "metadata": {},
   "outputs": [],
   "source": [
    "similar_documents = model.dv.most_similar(\n",
    "    [inferred_vector], topn=len(model.dv))\n"
   ]
  },
  {
   "cell_type": "code",
   "execution_count": 26,
   "id": "79298815",
   "metadata": {},
   "outputs": [
    {
     "data": {
      "text/plain": [
       "[('0', 0.8144977688789368),\n",
       " ('6', 0.7698941826820374),\n",
       " ('3', 0.7246724367141724),\n",
       " ('1', 0.4437747299671173),\n",
       " ('7', 0.41714268922805786),\n",
       " ('2', 0.39946305751800537),\n",
       " ('10', 0.37629467248916626),\n",
       " ('14', 0.3708481192588806),\n",
       " ('13', 0.20930461585521698),\n",
       " ('11', 0.1927516907453537),\n",
       " ('8', 0.19024017453193665),\n",
       " ('5', 0.17327068746089935),\n",
       " ('9', 0.07316648960113525),\n",
       " ('4', 0.06774565577507019),\n",
       " ('12', -0.0030000254046171904)]"
      ]
     },
     "execution_count": 26,
     "metadata": {},
     "output_type": "execute_result"
    }
   ],
   "source": [
    "similar_documents"
   ]
  },
  {
   "cell_type": "code",
   "execution_count": 27,
   "id": "4a870132",
   "metadata": {},
   "outputs": [
    {
     "data": {
      "text/plain": [
       "{'How do I open a mobile banking account?': 'You can open an account by downloading our mobile banking app and completing the registration form using your phone number, national ID, and email address.',\n",
       " 'Can I have multiple accounts linked to the same app?': 'Yes, you can link multiple accounts under the same profile by adding them in the “Linked Accounts” section from Settings.',\n",
       " 'How do I reset my password?': 'On the login screen, tap “Forgot Password”, then follow the instructions sent to your registered phone number or email to reset it.',\n",
       " 'Is mobile banking safe to use?': 'Yes. Our app uses end-to-end encryption and multi-factor authentication to protect your data and transactions.',\n",
       " 'What should I do if I suspect fraudulent activity?': 'Immediately lock your account using the “Freeze Account” option in the app and contact our support center for assistance.',\n",
       " 'Does the app store my card details?': 'No. Your card details are encrypted and securely stored in compliance with banking security standards.',\n",
       " 'How do I transfer money to another bank account?': 'Go to “Transfers” → “External Transfer”, enter the recipient’s bank details, and confirm with your PIN or biometric authentication.',\n",
       " 'Is there a transfer limit?': 'Yes, daily transfer limits depend on your account type. You can view or request an increase in the “Limits” section under Settings.',\n",
       " 'Can I schedule recurring payments?': 'Yes, you can set up recurring payments from the “Scheduled Transfers” option for bills, rent, or subscriptions.',\n",
       " 'Does the app work without internet?': 'No, you need an active internet connection to use mobile banking services.',\n",
       " 'How do I update the app?': 'Visit the Google Play Store or Apple App Store, search for our app, and tap “Update”.',\n",
       " 'Can I use the app on multiple devices?': 'Yes, but you must verify each device using OTP authentication during login.',\n",
       " 'What should I do if the app crashes?': 'Try restarting your device and updating the app to the latest version. If the problem persists, contact customer support.',\n",
       " 'Why am I not receiving OTPs?': 'Ensure your phone number is active and not blocking SMS messages from short codes. You can also resend OTP after 30 seconds.',\n",
       " 'How can I contact customer support?': 'You can reach us via in-app chat, call our hotline, or email support@mobilebank.com for assistance.'}"
      ]
     },
     "execution_count": 27,
     "metadata": {},
     "output_type": "execute_result"
    }
   ],
   "source": [
    "final_db"
   ]
  },
  {
   "cell_type": "code",
   "execution_count": 28,
   "id": "e776349f",
   "metadata": {},
   "outputs": [
    {
     "data": {
      "text/plain": [
       "[('0', 0.8144977688789368),\n",
       " ('6', 0.7698941826820374),\n",
       " ('3', 0.7246724367141724),\n",
       " ('1', 0.4437747299671173),\n",
       " ('7', 0.41714268922805786),\n",
       " ('2', 0.39946305751800537),\n",
       " ('10', 0.37629467248916626),\n",
       " ('14', 0.3708481192588806),\n",
       " ('13', 0.20930461585521698),\n",
       " ('11', 0.1927516907453537),\n",
       " ('8', 0.19024017453193665),\n",
       " ('5', 0.17327068746089935),\n",
       " ('9', 0.07316648960113525),\n",
       " ('4', 0.06774565577507019),\n",
       " ('12', -0.0030000254046171904)]"
      ]
     },
     "execution_count": 28,
     "metadata": {},
     "output_type": "execute_result"
    }
   ],
   "source": [
    "similar_documents"
   ]
  },
  {
   "cell_type": "code",
   "execution_count": 29,
   "id": "32e8ddb2",
   "metadata": {},
   "outputs": [
    {
     "data": {
      "text/plain": [
       "{'How do I open a mobile banking account?': 'You can open an account by downloading our mobile banking app and completing the registration form using your phone number, national ID, and email address.',\n",
       " 'Can I have multiple accounts linked to the same app?': 'Yes, you can link multiple accounts under the same profile by adding them in the “Linked Accounts” section from Settings.',\n",
       " 'How do I reset my password?': 'On the login screen, tap “Forgot Password”, then follow the instructions sent to your registered phone number or email to reset it.',\n",
       " 'Is mobile banking safe to use?': 'Yes. Our app uses end-to-end encryption and multi-factor authentication to protect your data and transactions.',\n",
       " 'What should I do if I suspect fraudulent activity?': 'Immediately lock your account using the “Freeze Account” option in the app and contact our support center for assistance.',\n",
       " 'Does the app store my card details?': 'No. Your card details are encrypted and securely stored in compliance with banking security standards.',\n",
       " 'How do I transfer money to another bank account?': 'Go to “Transfers” → “External Transfer”, enter the recipient’s bank details, and confirm with your PIN or biometric authentication.',\n",
       " 'Is there a transfer limit?': 'Yes, daily transfer limits depend on your account type. You can view or request an increase in the “Limits” section under Settings.',\n",
       " 'Can I schedule recurring payments?': 'Yes, you can set up recurring payments from the “Scheduled Transfers” option for bills, rent, or subscriptions.',\n",
       " 'Does the app work without internet?': 'No, you need an active internet connection to use mobile banking services.',\n",
       " 'How do I update the app?': 'Visit the Google Play Store or Apple App Store, search for our app, and tap “Update”.',\n",
       " 'Can I use the app on multiple devices?': 'Yes, but you must verify each device using OTP authentication during login.',\n",
       " 'What should I do if the app crashes?': 'Try restarting your device and updating the app to the latest version. If the problem persists, contact customer support.',\n",
       " 'Why am I not receiving OTPs?': 'Ensure your phone number is active and not blocking SMS messages from short codes. You can also resend OTP after 30 seconds.',\n",
       " 'How can I contact customer support?': 'You can reach us via in-app chat, call our hotline, or email support@mobilebank.com for assistance.'}"
      ]
     },
     "execution_count": 29,
     "metadata": {},
     "output_type": "execute_result"
    }
   ],
   "source": [
    "final_db"
   ]
  },
  {
   "cell_type": "code",
   "execution_count": 99,
   "id": "432d63fd",
   "metadata": {},
   "outputs": [
    {
     "name": "stdout",
     "output_type": "stream",
     "text": [
      "Document 0: Similarity Score: 0.8146372437477112\n",
      "Question: How do I open a mobile banking account?\n",
      "Answer: You can open an account by downloading our mobile banking app and completing the registration form using your phone number, national ID, and email address.\n",
      "\n"
     ]
    }
   ],
   "source": [
    "threshold = 0.8\n",
    "questions = list(final_db.keys())  \n",
    "\n",
    "for index, score in similar_documents:\n",
    "    index = int(index)  \n",
    "    \n",
    "    if score < threshold:\n",
    "        print(\"There is no answer for you\")\n",
    "        break\n",
    "    else:\n",
    "        question = questions[index]  \n",
    "        print(f\"Document {index}: Similarity Score: {score}\")\n",
    "        print(f\"Question: {question}\")\n",
    "        print(f\"Answer: {final_db[question]}\")\n",
    "        result_data = final_db[question]\n",
    "        print()\n",
    "        break\n"
   ]
  },
  {
   "cell_type": "code",
   "execution_count": null,
   "id": "8b1023b6",
   "metadata": {},
   "outputs": [],
   "source": []
  },
  {
   "cell_type": "code",
   "execution_count": 100,
   "id": "10031372",
   "metadata": {},
   "outputs": [],
   "source": [
    "from groq import Groq\n",
    "from dotenv import load_dotenv\n",
    "import os\n",
    "\n",
    "load_dotenv()\n",
    "\n",
    "GROQ_API_KEY = os.getenv(\"GROQ_API_KEY\")\n",
    "\n",
    "client = Groq(api_key=GROQ_API_KEY)\n",
    "\n",
    "completion = client.chat.completions.create(\n",
    "    model=\"llama-3.3-70b-versatile\",\n",
    "    messages=[\n",
    "    {\n",
    "        \"role\": \"system\",\n",
    "        \"content\": \"\"\"\n",
    "        - The tone is polite, professional, and grammatically correct.\n",
    "        - The original meaning and context remain accurate.\n",
    "        - If the text sounds too casual or emotional, rephrase it into a neutral and refined style.\"\"\"\n",
    "    },\n",
    "      {\n",
    "        \"role\": \"user\",\n",
    "        \"content\": result_data\n",
    "      }\n",
    "    ],\n",
    "    temperature=1,\n",
    "    max_completion_tokens=8192,\n",
    "    top_p=1,\n",
    "    #reasoning_effort=\"medium\",\n",
    "    #stream=True,\n",
    "    #stop=None\n",
    ")\n",
    "\n",
    "result = completion"
   ]
  },
  {
   "cell_type": "code",
   "execution_count": 101,
   "id": "9583c8cc",
   "metadata": {},
   "outputs": [
    {
     "data": {
      "text/plain": [
       "'To initiate the account opening process, you may download our mobile banking application and subsequently complete the registration form, which will require the provision of your phone number, national identification, and email address.'"
      ]
     },
     "execution_count": 101,
     "metadata": {},
     "output_type": "execute_result"
    }
   ],
   "source": [
    "result.choices[0].message.content"
   ]
  },
  {
   "cell_type": "code",
   "execution_count": null,
   "id": "00e20543",
   "metadata": {},
   "outputs": [],
   "source": []
  }
 ],
 "metadata": {
  "kernelspec": {
   "display_name": "ai-banking-app-backend-x5LFxkJZ",
   "language": "python",
   "name": "python3"
  },
  "language_info": {
   "codemirror_mode": {
    "name": "ipython",
    "version": 3
   },
   "file_extension": ".py",
   "mimetype": "text/x-python",
   "name": "python",
   "nbconvert_exporter": "python",
   "pygments_lexer": "ipython3",
   "version": "3.9.6"
  }
 },
 "nbformat": 4,
 "nbformat_minor": 5
}
