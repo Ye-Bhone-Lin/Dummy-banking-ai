{
 "cells": [
  {
   "cell_type": "code",
   "execution_count": 102,
   "id": "74ebdde7",
   "metadata": {},
   "outputs": [],
   "source": [
    "import psycopg2\n",
    "import os \n",
    "from dotenv import load_dotenv \n",
    "\n",
    "load_dotenv()\n",
    "\n",
    "DB_URI = os.getenv(\"DB_URI\")\n",
    "conn = psycopg2.connect(DB_URI)\n",
    "\n",
    "cur = conn.cursor()"
   ]
  },
  {
   "cell_type": "code",
   "execution_count": 103,
   "id": "1b016644",
   "metadata": {},
   "outputs": [],
   "source": [
    "cur.execute(\"SELECT * FROM faq;\")"
   ]
  },
  {
   "cell_type": "code",
   "execution_count": 104,
   "id": "f922a4b7",
   "metadata": {},
   "outputs": [],
   "source": [
    "cur.execute(\"\"\"SELECT column_name\n",
    "FROM information_schema.columns\n",
    "WHERE table_name = 'faq';\n",
    "\"\"\")"
   ]
  },
  {
   "cell_type": "code",
   "execution_count": 105,
   "id": "42fb5bbe",
   "metadata": {},
   "outputs": [
    {
     "name": "stdout",
     "output_type": "stream",
     "text": [
      "('id',)\n",
      "('faq_category_id',)\n",
      "('created_at',)\n",
      "('updated_at',)\n",
      "('question',)\n",
      "('answer',)\n"
     ]
    }
   ],
   "source": [
    "column_name = cur.fetchall()\n",
    "for row in column_name:\n",
    "    print(row)"
   ]
  },
  {
   "cell_type": "code",
   "execution_count": 38,
   "id": "968cd4b2",
   "metadata": {},
   "outputs": [],
   "source": [
    "rows = cur.fetchall()"
   ]
  },
  {
   "cell_type": "code",
   "execution_count": 39,
   "id": "cb9b5545",
   "metadata": {},
   "outputs": [],
   "source": [
    "cur.execute(\"SELECT question FROM faq;\")"
   ]
  },
  {
   "cell_type": "code",
   "execution_count": 40,
   "id": "fe34688e",
   "metadata": {},
   "outputs": [],
   "source": [
    "question_rows = cur.fetchall()"
   ]
  },
  {
   "cell_type": "code",
   "execution_count": 41,
   "id": "a3c58a7f",
   "metadata": {},
   "outputs": [
    {
     "data": {
      "text/plain": [
       "[('How do I open a mobile banking account?',),\n",
       " ('Can I have multiple accounts linked to the same app?',),\n",
       " ('How do I reset my password?',),\n",
       " ('Is mobile banking safe to use?',),\n",
       " ('What should I do if I suspect fraudulent activity?',),\n",
       " ('Does the app store my card details?',),\n",
       " ('How do I transfer money to another bank account?',),\n",
       " ('Is there a transfer limit?',),\n",
       " ('Can I schedule recurring payments?',),\n",
       " ('Does the app work without internet?',),\n",
       " ('How do I update the app?',),\n",
       " ('Can I use the app on multiple devices?',),\n",
       " ('What should I do if the app crashes?',),\n",
       " ('Why am I not receiving OTPs?',),\n",
       " ('How can I contact customer support?',)]"
      ]
     },
     "execution_count": 41,
     "metadata": {},
     "output_type": "execute_result"
    }
   ],
   "source": [
    "question_rows"
   ]
  },
  {
   "cell_type": "code",
   "execution_count": 42,
   "id": "488dc88a",
   "metadata": {},
   "outputs": [
    {
     "name": "stdout",
     "output_type": "stream",
     "text": [
      "('How do I open a mobile banking account?',)\n",
      "('Can I have multiple accounts linked to the same app?',)\n",
      "('How do I reset my password?',)\n",
      "('Is mobile banking safe to use?',)\n",
      "('What should I do if I suspect fraudulent activity?',)\n",
      "('Does the app store my card details?',)\n",
      "('How do I transfer money to another bank account?',)\n",
      "('Is there a transfer limit?',)\n",
      "('Can I schedule recurring payments?',)\n",
      "('Does the app work without internet?',)\n",
      "('How do I update the app?',)\n",
      "('Can I use the app on multiple devices?',)\n",
      "('What should I do if the app crashes?',)\n",
      "('Why am I not receiving OTPs?',)\n",
      "('How can I contact customer support?',)\n"
     ]
    }
   ],
   "source": [
    "for question_row in question_rows:\n",
    "    print(question_row)"
   ]
  },
  {
   "cell_type": "code",
   "execution_count": 43,
   "id": "49e64268",
   "metadata": {},
   "outputs": [],
   "source": [
    "cur.execute(\"SELECT answer FROM faq;\")"
   ]
  },
  {
   "cell_type": "code",
   "execution_count": 44,
   "id": "1e547c14",
   "metadata": {},
   "outputs": [
    {
     "name": "stdout",
     "output_type": "stream",
     "text": [
      "('You can open an account by downloading our mobile banking app and completing the registration form using your phone number, national ID, and email address.',)\n",
      "('Yes, you can link multiple accounts under the same profile by adding them in the “Linked Accounts” section from Settings.',)\n",
      "('On the login screen, tap “Forgot Password”, then follow the instructions sent to your registered phone number or email to reset it.',)\n",
      "('Yes. Our app uses end-to-end encryption and multi-factor authentication to protect your data and transactions.',)\n",
      "('Immediately lock your account using the “Freeze Account” option in the app and contact our support center for assistance.',)\n",
      "('No. Your card details are encrypted and securely stored in compliance with banking security standards.',)\n",
      "('Go to “Transfers” → “External Transfer”, enter the recipient’s bank details, and confirm with your PIN or biometric authentication.',)\n",
      "('Yes, daily transfer limits depend on your account type. You can view or request an increase in the “Limits” section under Settings.',)\n",
      "('Yes, you can set up recurring payments from the “Scheduled Transfers” option for bills, rent, or subscriptions.',)\n",
      "('No, you need an active internet connection to use mobile banking services.',)\n",
      "('Visit the Google Play Store or Apple App Store, search for our app, and tap “Update”.',)\n",
      "('Yes, but you must verify each device using OTP authentication during login.',)\n",
      "('Try restarting your device and updating the app to the latest version. If the problem persists, contact customer support.',)\n",
      "('Ensure your phone number is active and not blocking SMS messages from short codes. You can also resend OTP after 30 seconds.',)\n",
      "('You can reach us via in-app chat, call our hotline, or email support@mobilebank.com for assistance.',)\n"
     ]
    }
   ],
   "source": [
    "answer_rows = cur.fetchall()\n",
    "for answer_row in answer_rows:\n",
    "    print(answer_row)"
   ]
  },
  {
   "cell_type": "code",
   "execution_count": null,
   "id": "8cdc5f6a",
   "metadata": {},
   "outputs": [
    {
     "data": {
      "text/plain": [
       "('How do I open a mobile banking account?',)"
      ]
     },
     "execution_count": 51,
     "metadata": {},
     "output_type": "execute_result"
    }
   ],
   "source": []
  },
  {
   "cell_type": "code",
   "execution_count": 53,
   "id": "c0f8dcc7",
   "metadata": {},
   "outputs": [
    {
     "data": {
      "text/plain": [
       "{('How do I open a mobile banking account?',): ('You can open an account by downloading our mobile banking app and completing the registration form using your phone number, national ID, and email address.',),\n",
       " ('Can I have multiple accounts linked to the same app?',): ('Yes, you can link multiple accounts under the same profile by adding them in the “Linked Accounts” section from Settings.',),\n",
       " ('How do I reset my password?',): ('On the login screen, tap “Forgot Password”, then follow the instructions sent to your registered phone number or email to reset it.',),\n",
       " ('Is mobile banking safe to use?',): ('Yes. Our app uses end-to-end encryption and multi-factor authentication to protect your data and transactions.',),\n",
       " ('What should I do if I suspect fraudulent activity?',): ('Immediately lock your account using the “Freeze Account” option in the app and contact our support center for assistance.',),\n",
       " ('Does the app store my card details?',): ('No. Your card details are encrypted and securely stored in compliance with banking security standards.',),\n",
       " ('How do I transfer money to another bank account?',): ('Go to “Transfers” → “External Transfer”, enter the recipient’s bank details, and confirm with your PIN or biometric authentication.',),\n",
       " ('Is there a transfer limit?',): ('Yes, daily transfer limits depend on your account type. You can view or request an increase in the “Limits” section under Settings.',),\n",
       " ('Can I schedule recurring payments?',): ('Yes, you can set up recurring payments from the “Scheduled Transfers” option for bills, rent, or subscriptions.',),\n",
       " ('Does the app work without internet?',): ('No, you need an active internet connection to use mobile banking services.',),\n",
       " ('How do I update the app?',): ('Visit the Google Play Store or Apple App Store, search for our app, and tap “Update”.',),\n",
       " ('Can I use the app on multiple devices?',): ('Yes, but you must verify each device using OTP authentication during login.',),\n",
       " ('What should I do if the app crashes?',): ('Try restarting your device and updating the app to the latest version. If the problem persists, contact customer support.',),\n",
       " ('Why am I not receiving OTPs?',): ('Ensure your phone number is active and not blocking SMS messages from short codes. You can also resend OTP after 30 seconds.',),\n",
       " ('How can I contact customer support?',): ('You can reach us via in-app chat, call our hotline, or email support@mobilebank.com for assistance.',)}"
      ]
     },
     "execution_count": 53,
     "metadata": {},
     "output_type": "execute_result"
    }
   ],
   "source": [
    "concat_qa = dict(zip(question_rows, answer_rows))\n",
    "concat_qa"
   ]
  },
  {
   "cell_type": "code",
   "execution_count": 62,
   "id": "3752676b",
   "metadata": {},
   "outputs": [
    {
     "data": {
      "text/plain": [
       "{'How do I open a mobile banking account?': 'You can open an account by downloading our mobile banking app and completing the registration form using your phone number, national ID, and email address.',\n",
       " 'Can I have multiple accounts linked to the same app?': 'Yes, you can link multiple accounts under the same profile by adding them in the “Linked Accounts” section from Settings.',\n",
       " 'How do I reset my password?': 'On the login screen, tap “Forgot Password”, then follow the instructions sent to your registered phone number or email to reset it.',\n",
       " 'Is mobile banking safe to use?': 'Yes. Our app uses end-to-end encryption and multi-factor authentication to protect your data and transactions.',\n",
       " 'What should I do if I suspect fraudulent activity?': 'Immediately lock your account using the “Freeze Account” option in the app and contact our support center for assistance.',\n",
       " 'Does the app store my card details?': 'No. Your card details are encrypted and securely stored in compliance with banking security standards.',\n",
       " 'How do I transfer money to another bank account?': 'Go to “Transfers” → “External Transfer”, enter the recipient’s bank details, and confirm with your PIN or biometric authentication.',\n",
       " 'Is there a transfer limit?': 'Yes, daily transfer limits depend on your account type. You can view or request an increase in the “Limits” section under Settings.',\n",
       " 'Can I schedule recurring payments?': 'Yes, you can set up recurring payments from the “Scheduled Transfers” option for bills, rent, or subscriptions.',\n",
       " 'Does the app work without internet?': 'No, you need an active internet connection to use mobile banking services.',\n",
       " 'How do I update the app?': 'Visit the Google Play Store or Apple App Store, search for our app, and tap “Update”.',\n",
       " 'Can I use the app on multiple devices?': 'Yes, but you must verify each device using OTP authentication during login.',\n",
       " 'What should I do if the app crashes?': 'Try restarting your device and updating the app to the latest version. If the problem persists, contact customer support.',\n",
       " 'Why am I not receiving OTPs?': 'Ensure your phone number is active and not blocking SMS messages from short codes. You can also resend OTP after 30 seconds.',\n",
       " 'How can I contact customer support?': 'You can reach us via in-app chat, call our hotline, or email support@mobilebank.com for assistance.'}"
      ]
     },
     "execution_count": 62,
     "metadata": {},
     "output_type": "execute_result"
    }
   ],
   "source": [
    "sg_q = [question[0] for question, answer in concat_qa.items()]\n",
    "sg_a = [answer[0] for question, answer in concat_qa.items()]\n",
    "\n",
    "final_db = dict(zip(sg_q, sg_a))\n",
    "final_db"
   ]
  },
  {
   "cell_type": "code",
   "execution_count": 70,
   "id": "c90028ce",
   "metadata": {},
   "outputs": [
    {
     "name": "stderr",
     "output_type": "stream",
     "text": [
      "[nltk_data] Downloading package punkt to\n",
      "[nltk_data]     /Users/yebhonelin/nltk_data...\n",
      "[nltk_data]   Package punkt is already up-to-date!\n"
     ]
    },
    {
     "data": {
      "text/plain": [
       "True"
      ]
     },
     "execution_count": 70,
     "metadata": {},
     "output_type": "execute_result"
    }
   ],
   "source": [
    "from gensim.models.doc2vec import Doc2Vec, TaggedDocument\n",
    "from nltk.tokenize import word_tokenize \n",
    "import nltk \n",
    "\n",
    "nltk.download(\"punkt\")"
   ]
  },
  {
   "cell_type": "code",
   "execution_count": 71,
   "id": "89e9fef3",
   "metadata": {},
   "outputs": [
    {
     "data": {
      "text/plain": [
       "[['how', 'do', 'i', 'open', 'a', 'mobile', 'banking', 'account', '?'],\n",
       " ['can',\n",
       "  'i',\n",
       "  'have',\n",
       "  'multiple',\n",
       "  'accounts',\n",
       "  'linked',\n",
       "  'to',\n",
       "  'the',\n",
       "  'same',\n",
       "  'app',\n",
       "  '?'],\n",
       " ['how', 'do', 'i', 'reset', 'my', 'password', '?'],\n",
       " ['is', 'mobile', 'banking', 'safe', 'to', 'use', '?'],\n",
       " ['what',\n",
       "  'should',\n",
       "  'i',\n",
       "  'do',\n",
       "  'if',\n",
       "  'i',\n",
       "  'suspect',\n",
       "  'fraudulent',\n",
       "  'activity',\n",
       "  '?'],\n",
       " ['does', 'the', 'app', 'store', 'my', 'card', 'details', '?'],\n",
       " ['how',\n",
       "  'do',\n",
       "  'i',\n",
       "  'transfer',\n",
       "  'money',\n",
       "  'to',\n",
       "  'another',\n",
       "  'bank',\n",
       "  'account',\n",
       "  '?'],\n",
       " ['is', 'there', 'a', 'transfer', 'limit', '?'],\n",
       " ['can', 'i', 'schedule', 'recurring', 'payments', '?'],\n",
       " ['does', 'the', 'app', 'work', 'without', 'internet', '?'],\n",
       " ['how', 'do', 'i', 'update', 'the', 'app', '?'],\n",
       " ['can', 'i', 'use', 'the', 'app', 'on', 'multiple', 'devices', '?'],\n",
       " ['what', 'should', 'i', 'do', 'if', 'the', 'app', 'crashes', '?'],\n",
       " ['why', 'am', 'i', 'not', 'receiving', 'otps', '?'],\n",
       " ['how', 'can', 'i', 'contact', 'customer', 'support', '?']]"
      ]
     },
     "execution_count": 71,
     "metadata": {},
     "output_type": "execute_result"
    }
   ],
   "source": [
    "tokenized_data = [word_tokenize(document.lower()) for document in final_db]\n",
    "tokenized_data"
   ]
  },
  {
   "cell_type": "code",
   "execution_count": 72,
   "id": "f2057af3",
   "metadata": {},
   "outputs": [
    {
     "data": {
      "text/plain": [
       "[TaggedDocument(words=['how', 'do', 'i', 'open', 'a', 'mobile', 'banking', 'account', '?'], tags=['0']),\n",
       " TaggedDocument(words=['can', 'i', 'have', 'multiple', 'accounts', 'linked', 'to', 'the', 'same', 'app', '?'], tags=['1']),\n",
       " TaggedDocument(words=['how', 'do', 'i', 'reset', 'my', 'password', '?'], tags=['2']),\n",
       " TaggedDocument(words=['is', 'mobile', 'banking', 'safe', 'to', 'use', '?'], tags=['3']),\n",
       " TaggedDocument(words=['what', 'should', 'i', 'do', 'if', 'i', 'suspect', 'fraudulent', 'activity', '?'], tags=['4']),\n",
       " TaggedDocument(words=['does', 'the', 'app', 'store', 'my', 'card', 'details', '?'], tags=['5']),\n",
       " TaggedDocument(words=['how', 'do', 'i', 'transfer', 'money', 'to', 'another', 'bank', 'account', '?'], tags=['6']),\n",
       " TaggedDocument(words=['is', 'there', 'a', 'transfer', 'limit', '?'], tags=['7']),\n",
       " TaggedDocument(words=['can', 'i', 'schedule', 'recurring', 'payments', '?'], tags=['8']),\n",
       " TaggedDocument(words=['does', 'the', 'app', 'work', 'without', 'internet', '?'], tags=['9']),\n",
       " TaggedDocument(words=['how', 'do', 'i', 'update', 'the', 'app', '?'], tags=['10']),\n",
       " TaggedDocument(words=['can', 'i', 'use', 'the', 'app', 'on', 'multiple', 'devices', '?'], tags=['11']),\n",
       " TaggedDocument(words=['what', 'should', 'i', 'do', 'if', 'the', 'app', 'crashes', '?'], tags=['12']),\n",
       " TaggedDocument(words=['why', 'am', 'i', 'not', 'receiving', 'otps', '?'], tags=['13']),\n",
       " TaggedDocument(words=['how', 'can', 'i', 'contact', 'customer', 'support', '?'], tags=['14'])]"
      ]
     },
     "execution_count": 72,
     "metadata": {},
     "output_type": "execute_result"
    }
   ],
   "source": [
    "tagged_data = [TaggedDocument(words=words, tags=[str(idx)])\n",
    "               for idx, words in enumerate(tokenized_data)]\n",
    "\n",
    "tagged_data"
   ]
  },
  {
   "cell_type": "code",
   "execution_count": 73,
   "id": "56b8f517",
   "metadata": {},
   "outputs": [],
   "source": [
    "model = Doc2Vec(vector_size=100, window=2, min_count=1, workers=4, epochs=1000)\n",
    "model.build_vocab(tagged_data)\n",
    "model.train(tagged_data, total_examples=model.corpus_count,\n",
    "            epochs=model.epochs)"
   ]
  },
  {
   "cell_type": "code",
   "execution_count": 74,
   "id": "1d2dd18c",
   "metadata": {},
   "outputs": [
    {
     "name": "stdout",
     "output_type": "stream",
     "text": [
      "Original Document: How to login to banking account\n"
     ]
    }
   ],
   "source": [
    "new_document = \"How to login to banking account\"\n",
    "print('Original Document:', new_document)"
   ]
  },
  {
   "cell_type": "code",
   "execution_count": 75,
   "id": "73fc4024",
   "metadata": {},
   "outputs": [],
   "source": [
    "inferred_vector = model.infer_vector(word_tokenize(new_document.lower()))"
   ]
  },
  {
   "cell_type": "code",
   "execution_count": 76,
   "id": "2f7fcc04",
   "metadata": {},
   "outputs": [],
   "source": [
    "similar_documents = model.dv.most_similar(\n",
    "    [inferred_vector], topn=len(model.dv))\n"
   ]
  },
  {
   "cell_type": "code",
   "execution_count": 77,
   "id": "79298815",
   "metadata": {},
   "outputs": [
    {
     "data": {
      "text/plain": [
       "[('0', 0.8146372437477112),\n",
       " ('6', 0.7697701454162598),\n",
       " ('3', 0.7246382236480713),\n",
       " ('1', 0.4441239833831787),\n",
       " ('7', 0.4172596037387848),\n",
       " ('2', 0.3997189402580261),\n",
       " ('10', 0.37700143456459045),\n",
       " ('14', 0.3705916702747345),\n",
       " ('13', 0.20870164036750793),\n",
       " ('11', 0.19299502670764923),\n",
       " ('8', 0.1905638873577118),\n",
       " ('5', 0.1730375438928604),\n",
       " ('9', 0.07389958947896957),\n",
       " ('4', 0.06732141226530075),\n",
       " ('12', -0.003280994715169072)]"
      ]
     },
     "execution_count": 77,
     "metadata": {},
     "output_type": "execute_result"
    }
   ],
   "source": [
    "similar_documents"
   ]
  },
  {
   "cell_type": "code",
   "execution_count": 92,
   "id": "4a870132",
   "metadata": {},
   "outputs": [
    {
     "data": {
      "text/plain": [
       "{'How do I open a mobile banking account?': 'You can open an account by downloading our mobile banking app and completing the registration form using your phone number, national ID, and email address.',\n",
       " 'Can I have multiple accounts linked to the same app?': 'Yes, you can link multiple accounts under the same profile by adding them in the “Linked Accounts” section from Settings.',\n",
       " 'How do I reset my password?': 'On the login screen, tap “Forgot Password”, then follow the instructions sent to your registered phone number or email to reset it.',\n",
       " 'Is mobile banking safe to use?': 'Yes. Our app uses end-to-end encryption and multi-factor authentication to protect your data and transactions.',\n",
       " 'What should I do if I suspect fraudulent activity?': 'Immediately lock your account using the “Freeze Account” option in the app and contact our support center for assistance.',\n",
       " 'Does the app store my card details?': 'No. Your card details are encrypted and securely stored in compliance with banking security standards.',\n",
       " 'How do I transfer money to another bank account?': 'Go to “Transfers” → “External Transfer”, enter the recipient’s bank details, and confirm with your PIN or biometric authentication.',\n",
       " 'Is there a transfer limit?': 'Yes, daily transfer limits depend on your account type. You can view or request an increase in the “Limits” section under Settings.',\n",
       " 'Can I schedule recurring payments?': 'Yes, you can set up recurring payments from the “Scheduled Transfers” option for bills, rent, or subscriptions.',\n",
       " 'Does the app work without internet?': 'No, you need an active internet connection to use mobile banking services.',\n",
       " 'How do I update the app?': 'Visit the Google Play Store or Apple App Store, search for our app, and tap “Update”.',\n",
       " 'Can I use the app on multiple devices?': 'Yes, but you must verify each device using OTP authentication during login.',\n",
       " 'What should I do if the app crashes?': 'Try restarting your device and updating the app to the latest version. If the problem persists, contact customer support.',\n",
       " 'Why am I not receiving OTPs?': 'Ensure your phone number is active and not blocking SMS messages from short codes. You can also resend OTP after 30 seconds.',\n",
       " 'How can I contact customer support?': 'You can reach us via in-app chat, call our hotline, or email support@mobilebank.com for assistance.'}"
      ]
     },
     "execution_count": 92,
     "metadata": {},
     "output_type": "execute_result"
    }
   ],
   "source": [
    "final_db"
   ]
  },
  {
   "cell_type": "code",
   "execution_count": 93,
   "id": "e776349f",
   "metadata": {},
   "outputs": [
    {
     "data": {
      "text/plain": [
       "[('0', 0.8146372437477112),\n",
       " ('6', 0.7697701454162598),\n",
       " ('3', 0.7246382236480713),\n",
       " ('1', 0.4441239833831787),\n",
       " ('7', 0.4172596037387848),\n",
       " ('2', 0.3997189402580261),\n",
       " ('10', 0.37700143456459045),\n",
       " ('14', 0.3705916702747345),\n",
       " ('13', 0.20870164036750793),\n",
       " ('11', 0.19299502670764923),\n",
       " ('8', 0.1905638873577118),\n",
       " ('5', 0.1730375438928604),\n",
       " ('9', 0.07389958947896957),\n",
       " ('4', 0.06732141226530075),\n",
       " ('12', -0.003280994715169072)]"
      ]
     },
     "execution_count": 93,
     "metadata": {},
     "output_type": "execute_result"
    }
   ],
   "source": [
    "similar_documents"
   ]
  },
  {
   "cell_type": "code",
   "execution_count": 94,
   "id": "32e8ddb2",
   "metadata": {},
   "outputs": [
    {
     "data": {
      "text/plain": [
       "{'How do I open a mobile banking account?': 'You can open an account by downloading our mobile banking app and completing the registration form using your phone number, national ID, and email address.',\n",
       " 'Can I have multiple accounts linked to the same app?': 'Yes, you can link multiple accounts under the same profile by adding them in the “Linked Accounts” section from Settings.',\n",
       " 'How do I reset my password?': 'On the login screen, tap “Forgot Password”, then follow the instructions sent to your registered phone number or email to reset it.',\n",
       " 'Is mobile banking safe to use?': 'Yes. Our app uses end-to-end encryption and multi-factor authentication to protect your data and transactions.',\n",
       " 'What should I do if I suspect fraudulent activity?': 'Immediately lock your account using the “Freeze Account” option in the app and contact our support center for assistance.',\n",
       " 'Does the app store my card details?': 'No. Your card details are encrypted and securely stored in compliance with banking security standards.',\n",
       " 'How do I transfer money to another bank account?': 'Go to “Transfers” → “External Transfer”, enter the recipient’s bank details, and confirm with your PIN or biometric authentication.',\n",
       " 'Is there a transfer limit?': 'Yes, daily transfer limits depend on your account type. You can view or request an increase in the “Limits” section under Settings.',\n",
       " 'Can I schedule recurring payments?': 'Yes, you can set up recurring payments from the “Scheduled Transfers” option for bills, rent, or subscriptions.',\n",
       " 'Does the app work without internet?': 'No, you need an active internet connection to use mobile banking services.',\n",
       " 'How do I update the app?': 'Visit the Google Play Store or Apple App Store, search for our app, and tap “Update”.',\n",
       " 'Can I use the app on multiple devices?': 'Yes, but you must verify each device using OTP authentication during login.',\n",
       " 'What should I do if the app crashes?': 'Try restarting your device and updating the app to the latest version. If the problem persists, contact customer support.',\n",
       " 'Why am I not receiving OTPs?': 'Ensure your phone number is active and not blocking SMS messages from short codes. You can also resend OTP after 30 seconds.',\n",
       " 'How can I contact customer support?': 'You can reach us via in-app chat, call our hotline, or email support@mobilebank.com for assistance.'}"
      ]
     },
     "execution_count": 94,
     "metadata": {},
     "output_type": "execute_result"
    }
   ],
   "source": [
    "final_db"
   ]
  },
  {
   "cell_type": "code",
   "execution_count": 99,
   "id": "432d63fd",
   "metadata": {},
   "outputs": [
    {
     "name": "stdout",
     "output_type": "stream",
     "text": [
      "Document 0: Similarity Score: 0.8146372437477112\n",
      "Question: How do I open a mobile banking account?\n",
      "Answer: You can open an account by downloading our mobile banking app and completing the registration form using your phone number, national ID, and email address.\n",
      "\n"
     ]
    }
   ],
   "source": [
    "threshold = 0.8\n",
    "questions = list(final_db.keys())  \n",
    "\n",
    "for index, score in similar_documents:\n",
    "    index = int(index)  \n",
    "    \n",
    "    if score < threshold:\n",
    "        print(\"There is no answer for you\")\n",
    "        break\n",
    "    else:\n",
    "        question = questions[index]  \n",
    "        print(f\"Document {index}: Similarity Score: {score}\")\n",
    "        print(f\"Question: {question}\")\n",
    "        print(f\"Answer: {final_db[question]}\")\n",
    "        result_data = final_db[question]\n",
    "        print()\n",
    "        break\n"
   ]
  },
  {
   "cell_type": "code",
   "execution_count": 100,
   "id": "10031372",
   "metadata": {},
   "outputs": [],
   "source": [
    "from groq import Groq\n",
    "from dotenv import load_dotenv\n",
    "import os\n",
    "\n",
    "load_dotenv()\n",
    "\n",
    "GROQ_API_KEY = os.getenv(\"GROQ_API_KEY\")\n",
    "\n",
    "client = Groq(api_key=GROQ_API_KEY)\n",
    "\n",
    "completion = client.chat.completions.create(\n",
    "    model=\"llama-3.3-70b-versatile\",\n",
    "    messages=[\n",
    "    {\n",
    "        \"role\": \"system\",\n",
    "        \"content\": \"\"\"\n",
    "        - The tone is polite, professional, and grammatically correct.\n",
    "        - The original meaning and context remain accurate.\n",
    "        - If the text sounds too casual or emotional, rephrase it into a neutral and refined style.\"\"\"\n",
    "    },\n",
    "      {\n",
    "        \"role\": \"user\",\n",
    "        \"content\": result_data\n",
    "      }\n",
    "    ],\n",
    "    temperature=1,\n",
    "    max_completion_tokens=8192,\n",
    "    top_p=1,\n",
    "    #reasoning_effort=\"medium\",\n",
    "    #stream=True,\n",
    "    #stop=None\n",
    ")\n",
    "\n",
    "result = completion"
   ]
  },
  {
   "cell_type": "code",
   "execution_count": 101,
   "id": "9583c8cc",
   "metadata": {},
   "outputs": [
    {
     "data": {
      "text/plain": [
       "'To initiate the account opening process, you may download our mobile banking application and subsequently complete the registration form, which will require the provision of your phone number, national identification, and email address.'"
      ]
     },
     "execution_count": 101,
     "metadata": {},
     "output_type": "execute_result"
    }
   ],
   "source": [
    "result.choices[0].message.content"
   ]
  },
  {
   "cell_type": "code",
   "execution_count": null,
   "id": "091a4f6f",
   "metadata": {},
   "outputs": [],
   "source": []
  }
 ],
 "metadata": {
  "kernelspec": {
   "display_name": "ai-banking-app-backend-x5LFxkJZ",
   "language": "python",
   "name": "python3"
  },
  "language_info": {
   "codemirror_mode": {
    "name": "ipython",
    "version": 3
   },
   "file_extension": ".py",
   "mimetype": "text/x-python",
   "name": "python",
   "nbconvert_exporter": "python",
   "pygments_lexer": "ipython3",
   "version": "3.11.13"
  }
 },
 "nbformat": 4,
 "nbformat_minor": 5
}
