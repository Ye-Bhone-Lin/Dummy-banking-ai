{
 "cells": [
  {
   "cell_type": "code",
   "execution_count": 1,
   "id": "21ca0365",
   "metadata": {},
   "outputs": [
    {
     "name": "stderr",
     "output_type": "stream",
     "text": [
      "/Users/yebhonelin/.local/share/virtualenvs/ai-banking-app-backend-x5LFxkJZ/lib/python3.9/site-packages/urllib3/__init__.py:35: NotOpenSSLWarning: urllib3 v2 only supports OpenSSL 1.1.1+, currently the 'ssl' module is compiled with 'LibreSSL 2.8.3'. See: https://github.com/urllib3/urllib3/issues/3020\n",
      "  warnings.warn(\n",
      "/Users/yebhonelin/.local/share/virtualenvs/ai-banking-app-backend-x5LFxkJZ/lib/python3.9/site-packages/tqdm/auto.py:21: TqdmWarning: IProgress not found. Please update jupyter and ipywidgets. See https://ipywidgets.readthedocs.io/en/stable/user_install.html\n",
      "  from .autonotebook import tqdm as notebook_tqdm\n",
      "huggingface/tokenizers: The current process just got forked, after parallelism has already been used. Disabling parallelism to avoid deadlocks...\n",
      "To disable this warning, you can either:\n",
      "\t- Avoid using `tokenizers` before the fork if possible\n",
      "\t- Explicitly set the environment variable TOKENIZERS_PARALLELISM=(true | false)\n"
     ]
    },
    {
     "name": "stdout",
     "output_type": "stream",
     "text": [
      "(768,) (4, 768)\n",
      "tensor([[0.3647, 0.3793, 0.3298, 0.4095]])\n",
      "tensor([3, 1, 0, 2])\n"
     ]
    }
   ],
   "source": [
    "from sentence_transformers import SentenceTransformer\n",
    "\n",
    "model = SentenceTransformer(\"google/embeddinggemma-300m\")\n",
    "\n",
    "query = \"ကမ္ဘာနီကြယ်အဖြစ်အကြမ်းသိပ်သောဂြိုဟ်ကဘာလဲ။\"\n",
    "documents = [\n",
    "    \"ဗင်နပ်စ်သည် အရွယ်အစားနှင့် နီးကပ်မှုကြောင့် ကမ္ဘာနဲ့ဆင်တဲ့ ဂြိုဟ်အဖြစ် အများအားဖြင့် ဖော်ပြကြသည်။\",\n",
    "    \"မာကြွန်းသည် အနီရောင်မျက်နှာပြင်ကြောင့် 'ကမ္ဘာနီကြယ်' ဟုပင် ခေါ်ကြသည်။\",\n",
    "    \"ဂျူပီတာသည် နဲ့အကြီးဆုံးဂြိုဟ်ဖြစ်ပြီး အနီရောင်စွမ်းအင်တစ်ခု (Great Red Spot) ရှိသည်။\",\n",
    "    \"ဆာတွန်းသည် လုံးဝလှပသောကွင်းများကြောင့် နာမည်ကြီးသော်လည်း တခါတရံတွင် 'ကမ္ဘာနီကြယ်' ဟု မှားယွင်းစွာ ခေါ်ကြသည်။\"\n",
    "]"
   ]
  },
  {
   "cell_type": "code",
   "execution_count": 2,
   "id": "5a45220c",
   "metadata": {},
   "outputs": [
    {
     "name": "stdout",
     "output_type": "stream",
     "text": [
      "Score: 0.4095\n",
      "Document: ဆာတွန်းသည် လုံးဝလှပသောကွင်းများကြောင့် နာမည်ကြီးသော်လည်း တခါတရံတွင် 'ကမ္ဘာနီကြယ်' ဟု မှားယွင်းစွာ ခေါ်ကြသည်။\n",
      "\n",
      "Score: 0.3793\n",
      "Document: မာကြွန်းသည် အနီရောင်မျက်နှာပြင်ကြောင့် 'ကမ္ဘာနီကြယ်' ဟုပင် ခေါ်ကြသည်။\n",
      "\n",
      "Score: 0.3647\n",
      "Document: ဗင်နပ်စ်သည် အရွယ်အစားနှင့် နီးကပ်မှုကြောင့် ကမ္ဘာနဲ့ဆင်တဲ့ ဂြိုဟ်အဖြစ် အများအားဖြင့် ဖော်ပြကြသည်။\n",
      "\n",
      "Score: 0.3298\n",
      "Document: ဂျူပီတာသည် နဲ့အကြီးဆုံးဂြိုဟ်ဖြစ်ပြီး အနီရောင်စွမ်းအင်တစ်ခု (Great Red Spot) ရှိသည်။\n",
      "\n"
     ]
    }
   ],
   "source": [
    "query_embeddings = model.encode_query(query)\n",
    "document_embeddings = model.encode_document(documents)\n",
    "\n",
    "similarities = model.similarity(query_embeddings, document_embeddings)\n",
    "\n",
    "ranking = similarities.argsort(descending=True)[0]\n",
    "\n",
    "for idx in ranking:\n",
    "    print(f\"Score: {similarities[0][idx]:.4f}\")\n",
    "    print(f\"Document: {documents[idx]}\")\n",
    "    print()"
   ]
  },
  {
   "cell_type": "code",
   "execution_count": 3,
   "id": "a5a794e2",
   "metadata": {},
   "outputs": [],
   "source": [
    "import psycopg2\n",
    "import os \n",
    "from dotenv import load_dotenv \n",
    "\n",
    "load_dotenv()\n",
    "\n",
    "DB_URI = os.getenv(\"DB_URI\")\n",
    "conn = psycopg2.connect(DB_URI)\n",
    "\n",
    "cur = conn.cursor()"
   ]
  },
  {
   "cell_type": "code",
   "execution_count": 4,
   "id": "6d1046bd",
   "metadata": {},
   "outputs": [],
   "source": [
    "cur.execute(\"SELECT * FROM faq;\")"
   ]
  },
  {
   "cell_type": "code",
   "execution_count": 5,
   "id": "506128cd",
   "metadata": {},
   "outputs": [],
   "source": [
    "cur.execute(\"\"\"SELECT column_name\n",
    "FROM information_schema.columns\n",
    "WHERE table_name = 'faq';\n",
    "\"\"\")"
   ]
  },
  {
   "cell_type": "code",
   "execution_count": 6,
   "id": "34df0df0",
   "metadata": {},
   "outputs": [
    {
     "name": "stdout",
     "output_type": "stream",
     "text": [
      "('id',)\n",
      "('faq_category_id',)\n",
      "('created_at',)\n",
      "('updated_at',)\n",
      "('question',)\n",
      "('answer',)\n"
     ]
    }
   ],
   "source": [
    "column_name = cur.fetchall()\n",
    "for row in column_name:\n",
    "    print(row)"
   ]
  },
  {
   "cell_type": "code",
   "execution_count": 7,
   "id": "86cc99a1",
   "metadata": {},
   "outputs": [],
   "source": [
    "rows = cur.fetchall()"
   ]
  },
  {
   "cell_type": "code",
   "execution_count": 8,
   "id": "f8d037cc",
   "metadata": {},
   "outputs": [],
   "source": [
    "cur.execute(\"SELECT question FROM faq;\")"
   ]
  },
  {
   "cell_type": "code",
   "execution_count": 9,
   "id": "25e6b9f7",
   "metadata": {},
   "outputs": [],
   "source": [
    "question_rows = cur.fetchall()"
   ]
  },
  {
   "cell_type": "code",
   "execution_count": 10,
   "id": "dc6e35dd",
   "metadata": {},
   "outputs": [
    {
     "data": {
      "text/plain": [
       "[('How do I open a mobile banking account?',),\n",
       " ('Can I have multiple accounts linked to the same app?',),\n",
       " ('How do I reset my password?',),\n",
       " ('Is mobile banking safe to use?',),\n",
       " ('What should I do if I suspect fraudulent activity?',),\n",
       " ('Does the app store my card details?',),\n",
       " ('How do I transfer money to another bank account?',),\n",
       " ('Is there a transfer limit?',),\n",
       " ('Can I schedule recurring payments?',),\n",
       " ('Does the app work without internet?',),\n",
       " ('How do I update the app?',),\n",
       " ('Can I use the app on multiple devices?',),\n",
       " ('What should I do if the app crashes?',),\n",
       " ('Why am I not receiving OTPs?',),\n",
       " ('How can I contact customer support?',),\n",
       " ('မိုဘိုင်းဘဏ်အကောင့်ကို ဘယ်လိုဖွင့်ရမလဲ။',),\n",
       " ('လိမ်လည်မှုရှိတယ်လို့ သံသယရှိရင် ဘာလုပ်သင့်လဲ။',),\n",
       " ('အခြားဘဏ်အကောင့်သို့ ငွေလွှဲချင်ရင် ဘယ်လိုလုပ်ရမလဲ။',),\n",
       " ('အက်ပ်ကို အင်တာနက်မရှိပဲ အသုံးပြုနိုင်မလား။',),\n",
       " ('OTP မရဘူးဆိုရင် ဘယ်လိုလုပ်ရမလဲ။',)]"
      ]
     },
     "execution_count": 10,
     "metadata": {},
     "output_type": "execute_result"
    }
   ],
   "source": [
    "question_rows"
   ]
  },
  {
   "cell_type": "code",
   "execution_count": 11,
   "id": "548b76cb",
   "metadata": {},
   "outputs": [],
   "source": [
    "cur.execute(\"SELECT answer FROM faq;\")"
   ]
  },
  {
   "cell_type": "code",
   "execution_count": 12,
   "id": "66e11122",
   "metadata": {},
   "outputs": [
    {
     "name": "stdout",
     "output_type": "stream",
     "text": [
      "('You can open an account by downloading our mobile banking app and completing the registration form using your phone number, national ID, and email address.',)\n",
      "('Yes, you can link multiple accounts under the same profile by adding them in the “Linked Accounts” section from Settings.',)\n",
      "('On the login screen, tap “Forgot Password”, then follow the instructions sent to your registered phone number or email to reset it.',)\n",
      "('Yes. Our app uses end-to-end encryption and multi-factor authentication to protect your data and transactions.',)\n",
      "('Immediately lock your account using the “Freeze Account” option in the app and contact our support center for assistance.',)\n",
      "('No. Your card details are encrypted and securely stored in compliance with banking security standards.',)\n",
      "('Go to “Transfers” → “External Transfer”, enter the recipient’s bank details, and confirm with your PIN or biometric authentication.',)\n",
      "('Yes, daily transfer limits depend on your account type. You can view or request an increase in the “Limits” section under Settings.',)\n",
      "('Yes, you can set up recurring payments from the “Scheduled Transfers” option for bills, rent, or subscriptions.',)\n",
      "('No, you need an active internet connection to use mobile banking services.',)\n",
      "('Visit the Google Play Store or Apple App Store, search for our app, and tap “Update”.',)\n",
      "('Yes, but you must verify each device using OTP authentication during login.',)\n",
      "('Try restarting your device and updating the app to the latest version. If the problem persists, contact customer support.',)\n",
      "('Ensure your phone number is active and not blocking SMS messages from short codes. You can also resend OTP after 30 seconds.',)\n",
      "('You can reach us via in-app chat, call our hotline, or email support@mobilebank.com for assistance.',)\n",
      "('မိုဘိုင်းဘဏ်အက်ပ်ကို ဒေါင်းလုဒ်လုပ်ပြီး မိမိဖုန်းနံပါတ်၊ အမျိုးသားမှတ်ပုံတင်နံပါတ်နဲ့ အီးမေးလ်ဖြင့် မှတ်ပုံတင်ဖောင်ဖြည့်ခြင်းဖြင့် အကောင့်ဖွင့်နိုင်ပါတယ်။',)\n",
      "('အက်ပ်ထဲရှိ “Freeze Account” ဆိုတဲ့ရွေးချယ်မှုကို အသုံးပြုပြီး မိမိအကောင့်ကို ချက်ချင်းပိတ်ပါ။ ပြီးရင် ဝန်ဆောင်မှုအထောက်အပံ့ဌာနကို ဆက်သွယ်ပါ။',)\n",
      "('“ငွေလွှဲ” → “အပြင်ဘဏ်လွှဲမှု” ကိုနှိပ်ပြီး လက်ခံသူ၏ ဘဏ်အချက်အလက်များထည့်ပါ။ ထို့နောက် မိမိ၏ PIN သို့မဟုတ် လက်ဗွေဖြင့် အတည်ပြုပါ။',)\n",
      "('မရပါ။ မိုဘိုင်းဘဏ်ဝန်ဆောင်မှုများအသုံးပြုရန် အင်တာနက်ချိတ်ဆက်မှု လိုအပ်ပါသည်။',)\n",
      "('မိမိဖုန်းနံပါတ်အသက်ဝင်နေကြောင်း၊ short code မှ SMS မတားထားကြောင်း စစ်ဆေးပါ။ မရပါက စက္ကန့် ၃၀ ကြာပြီးနောက် OTP ကို ပြန်တောင်းနိုင်ပါတယ်။',)\n"
     ]
    }
   ],
   "source": [
    "answer_rows = cur.fetchall()\n",
    "for answer_row in answer_rows:\n",
    "    print(answer_row)"
   ]
  },
  {
   "cell_type": "code",
   "execution_count": 13,
   "id": "e17c9189",
   "metadata": {},
   "outputs": [
    {
     "data": {
      "text/plain": [
       "{('How do I open a mobile banking account?',): ('You can open an account by downloading our mobile banking app and completing the registration form using your phone number, national ID, and email address.',),\n",
       " ('Can I have multiple accounts linked to the same app?',): ('Yes, you can link multiple accounts under the same profile by adding them in the “Linked Accounts” section from Settings.',),\n",
       " ('How do I reset my password?',): ('On the login screen, tap “Forgot Password”, then follow the instructions sent to your registered phone number or email to reset it.',),\n",
       " ('Is mobile banking safe to use?',): ('Yes. Our app uses end-to-end encryption and multi-factor authentication to protect your data and transactions.',),\n",
       " ('What should I do if I suspect fraudulent activity?',): ('Immediately lock your account using the “Freeze Account” option in the app and contact our support center for assistance.',),\n",
       " ('Does the app store my card details?',): ('No. Your card details are encrypted and securely stored in compliance with banking security standards.',),\n",
       " ('How do I transfer money to another bank account?',): ('Go to “Transfers” → “External Transfer”, enter the recipient’s bank details, and confirm with your PIN or biometric authentication.',),\n",
       " ('Is there a transfer limit?',): ('Yes, daily transfer limits depend on your account type. You can view or request an increase in the “Limits” section under Settings.',),\n",
       " ('Can I schedule recurring payments?',): ('Yes, you can set up recurring payments from the “Scheduled Transfers” option for bills, rent, or subscriptions.',),\n",
       " ('Does the app work without internet?',): ('No, you need an active internet connection to use mobile banking services.',),\n",
       " ('How do I update the app?',): ('Visit the Google Play Store or Apple App Store, search for our app, and tap “Update”.',),\n",
       " ('Can I use the app on multiple devices?',): ('Yes, but you must verify each device using OTP authentication during login.',),\n",
       " ('What should I do if the app crashes?',): ('Try restarting your device and updating the app to the latest version. If the problem persists, contact customer support.',),\n",
       " ('Why am I not receiving OTPs?',): ('Ensure your phone number is active and not blocking SMS messages from short codes. You can also resend OTP after 30 seconds.',),\n",
       " ('How can I contact customer support?',): ('You can reach us via in-app chat, call our hotline, or email support@mobilebank.com for assistance.',),\n",
       " ('မိုဘိုင်းဘဏ်အကောင့်ကို ဘယ်လိုဖွင့်ရမလဲ။',): ('မိုဘိုင်းဘဏ်အက်ပ်ကို ဒေါင်းလုဒ်လုပ်ပြီး မိမိဖုန်းနံပါတ်၊ အမျိုးသားမှတ်ပုံတင်နံပါတ်နဲ့ အီးမေးလ်ဖြင့် မှတ်ပုံတင်ဖောင်ဖြည့်ခြင်းဖြင့် အကောင့်ဖွင့်နိုင်ပါတယ်။',),\n",
       " ('လိမ်လည်မှုရှိတယ်လို့ သံသယရှိရင် ဘာလုပ်သင့်လဲ။',): ('အက်ပ်ထဲရှိ “Freeze Account” ဆိုတဲ့ရွေးချယ်မှုကို အသုံးပြုပြီး မိမိအကောင့်ကို ချက်ချင်းပိတ်ပါ။ ပြီးရင် ဝန်ဆောင်မှုအထောက်အပံ့ဌာနကို ဆက်သွယ်ပါ။',),\n",
       " ('အခြားဘဏ်အကောင့်သို့ ငွေလွှဲချင်ရင် ဘယ်လိုလုပ်ရမလဲ။',): ('“ငွေလွှဲ” → “အပြင်ဘဏ်လွှဲမှု” ကိုနှိပ်ပြီး လက်ခံသူ၏ ဘဏ်အချက်အလက်များထည့်ပါ။ ထို့နောက် မိမိ၏ PIN သို့မဟုတ် လက်ဗွေဖြင့် အတည်ပြုပါ။',),\n",
       " ('အက်ပ်ကို အင်တာနက်မရှိပဲ အသုံးပြုနိုင်မလား။',): ('မရပါ။ မိုဘိုင်းဘဏ်ဝန်ဆောင်မှုများအသုံးပြုရန် အင်တာနက်ချိတ်ဆက်မှု လိုအပ်ပါသည်။',),\n",
       " ('OTP မရဘူးဆိုရင် ဘယ်လိုလုပ်ရမလဲ။',): ('မိမိဖုန်းနံပါတ်အသက်ဝင်နေကြောင်း၊ short code မှ SMS မတားထားကြောင်း စစ်ဆေးပါ။ မရပါက စက္ကန့် ၃၀ ကြာပြီးနောက် OTP ကို ပြန်တောင်းနိုင်ပါတယ်။',)}"
      ]
     },
     "execution_count": 13,
     "metadata": {},
     "output_type": "execute_result"
    }
   ],
   "source": [
    "concat_qa = dict(zip(question_rows, answer_rows))\n",
    "concat_qa"
   ]
  },
  {
   "cell_type": "code",
   "execution_count": 14,
   "id": "8d384a59",
   "metadata": {},
   "outputs": [
    {
     "data": {
      "text/plain": [
       "{'How do I open a mobile banking account?': 'You can open an account by downloading our mobile banking app and completing the registration form using your phone number, national ID, and email address.',\n",
       " 'Can I have multiple accounts linked to the same app?': 'Yes, you can link multiple accounts under the same profile by adding them in the “Linked Accounts” section from Settings.',\n",
       " 'How do I reset my password?': 'On the login screen, tap “Forgot Password”, then follow the instructions sent to your registered phone number or email to reset it.',\n",
       " 'Is mobile banking safe to use?': 'Yes. Our app uses end-to-end encryption and multi-factor authentication to protect your data and transactions.',\n",
       " 'What should I do if I suspect fraudulent activity?': 'Immediately lock your account using the “Freeze Account” option in the app and contact our support center for assistance.',\n",
       " 'Does the app store my card details?': 'No. Your card details are encrypted and securely stored in compliance with banking security standards.',\n",
       " 'How do I transfer money to another bank account?': 'Go to “Transfers” → “External Transfer”, enter the recipient’s bank details, and confirm with your PIN or biometric authentication.',\n",
       " 'Is there a transfer limit?': 'Yes, daily transfer limits depend on your account type. You can view or request an increase in the “Limits” section under Settings.',\n",
       " 'Can I schedule recurring payments?': 'Yes, you can set up recurring payments from the “Scheduled Transfers” option for bills, rent, or subscriptions.',\n",
       " 'Does the app work without internet?': 'No, you need an active internet connection to use mobile banking services.',\n",
       " 'How do I update the app?': 'Visit the Google Play Store or Apple App Store, search for our app, and tap “Update”.',\n",
       " 'Can I use the app on multiple devices?': 'Yes, but you must verify each device using OTP authentication during login.',\n",
       " 'What should I do if the app crashes?': 'Try restarting your device and updating the app to the latest version. If the problem persists, contact customer support.',\n",
       " 'Why am I not receiving OTPs?': 'Ensure your phone number is active and not blocking SMS messages from short codes. You can also resend OTP after 30 seconds.',\n",
       " 'How can I contact customer support?': 'You can reach us via in-app chat, call our hotline, or email support@mobilebank.com for assistance.',\n",
       " 'မိုဘိုင်းဘဏ်အကောင့်ကို ဘယ်လိုဖွင့်ရမလဲ။': 'မိုဘိုင်းဘဏ်အက်ပ်ကို ဒေါင်းလုဒ်လုပ်ပြီး မိမိဖုန်းနံပါတ်၊ အမျိုးသားမှတ်ပုံတင်နံပါတ်နဲ့ အီးမေးလ်ဖြင့် မှတ်ပုံတင်ဖောင်ဖြည့်ခြင်းဖြင့် အကောင့်ဖွင့်နိုင်ပါတယ်။',\n",
       " 'လိမ်လည်မှုရှိတယ်လို့ သံသယရှိရင် ဘာလုပ်သင့်လဲ။': 'အက်ပ်ထဲရှိ “Freeze Account” ဆိုတဲ့ရွေးချယ်မှုကို အသုံးပြုပြီး မိမိအကောင့်ကို ချက်ချင်းပိတ်ပါ။ ပြီးရင် ဝန်ဆောင်မှုအထောက်အပံ့ဌာနကို ဆက်သွယ်ပါ။',\n",
       " 'အခြားဘဏ်အကောင့်သို့ ငွေလွှဲချင်ရင် ဘယ်လိုလုပ်ရမလဲ။': '“ငွေလွှဲ” → “အပြင်ဘဏ်လွှဲမှု” ကိုနှိပ်ပြီး လက်ခံသူ၏ ဘဏ်အချက်အလက်များထည့်ပါ။ ထို့နောက် မိမိ၏ PIN သို့မဟုတ် လက်ဗွေဖြင့် အတည်ပြုပါ။',\n",
       " 'အက်ပ်ကို အင်တာနက်မရှိပဲ အသုံးပြုနိုင်မလား။': 'မရပါ။ မိုဘိုင်းဘဏ်ဝန်ဆောင်မှုများအသုံးပြုရန် အင်တာနက်ချိတ်ဆက်မှု လိုအပ်ပါသည်။',\n",
       " 'OTP မရဘူးဆိုရင် ဘယ်လိုလုပ်ရမလဲ။': 'မိမိဖုန်းနံပါတ်အသက်ဝင်နေကြောင်း၊ short code မှ SMS မတားထားကြောင်း စစ်ဆေးပါ။ မရပါက စက္ကန့် ၃၀ ကြာပြီးနောက် OTP ကို ပြန်တောင်းနိုင်ပါတယ်။'}"
      ]
     },
     "execution_count": 14,
     "metadata": {},
     "output_type": "execute_result"
    }
   ],
   "source": [
    "sg_q = [question[0] for question, answer in concat_qa.items()]\n",
    "sg_a = [answer[0] for question, answer in concat_qa.items()]\n",
    "\n",
    "final_db = dict(zip(sg_q, sg_a))\n",
    "final_db"
   ]
  },
  {
   "cell_type": "code",
   "execution_count": 38,
   "id": "e9773b0c",
   "metadata": {},
   "outputs": [],
   "source": [
    "query = \"How can do if i know suspicious\"\n"
   ]
  },
  {
   "cell_type": "code",
   "execution_count": 39,
   "id": "492e7ca0",
   "metadata": {},
   "outputs": [],
   "source": [
    "query_embeddings = model.encode_query(query)\n",
    "document_embeddings = model.encode_document(final_db)\n",
    "\n",
    "similarities = model.similarity(query_embeddings, document_embeddings)\n",
    "\n",
    "ranking = similarities.argsort(descending=True)[0]\n"
   ]
  },
  {
   "cell_type": "code",
   "execution_count": 40,
   "id": "48841afc",
   "metadata": {},
   "outputs": [
    {
     "data": {
      "text/plain": [
       "20"
      ]
     },
     "execution_count": 40,
     "metadata": {},
     "output_type": "execute_result"
    }
   ],
   "source": [
    "len(final_db)"
   ]
  },
  {
   "cell_type": "code",
   "execution_count": 44,
   "id": "14bcedf1",
   "metadata": {},
   "outputs": [
    {
     "name": "stdout",
     "output_type": "stream",
     "text": [
      "Score: 0.4918\n",
      "Document: Immediately lock your account using the “Freeze Account” option in the app and contact our support center for assistance.\n"
     ]
    }
   ],
   "source": [
    "threshold = 0.4 \n",
    "\n",
    "final_texts = list(final_db.values())\n",
    "\n",
    "for idx in ranking:\n",
    "    i = idx.item()\n",
    "    if similarities[0][i] > threshold:\n",
    "        print(f\"Score: {similarities[0][i]:.4f}\")\n",
    "        print(f\"Document: {final_texts[i]}\")\n",
    "        break\n",
    "    else:\n",
    "        print(\"There is no answer for you\")\n",
    "        break\n",
    "    print()\n"
   ]
  },
  {
   "cell_type": "code",
   "execution_count": 42,
   "id": "e4039b63",
   "metadata": {},
   "outputs": [
    {
     "ename": "NameError",
     "evalue": "name 'result_data' is not defined",
     "output_type": "error",
     "traceback": [
      "\u001b[0;31m---------------------------------------------------------------------------\u001b[0m",
      "\u001b[0;31mNameError\u001b[0m                                 Traceback (most recent call last)",
      "Cell \u001b[0;32mIn[42], line 23\u001b[0m\n\u001b[1;32m      7\u001b[0m GROQ_API_KEY \u001b[38;5;241m=\u001b[39m os\u001b[38;5;241m.\u001b[39mgetenv(\u001b[38;5;124m\"\u001b[39m\u001b[38;5;124mGROQ_API_KEY\u001b[39m\u001b[38;5;124m\"\u001b[39m)\n\u001b[1;32m      9\u001b[0m client \u001b[38;5;241m=\u001b[39m Groq(api_key\u001b[38;5;241m=\u001b[39mGROQ_API_KEY)\n\u001b[1;32m     11\u001b[0m completion \u001b[38;5;241m=\u001b[39m client\u001b[38;5;241m.\u001b[39mchat\u001b[38;5;241m.\u001b[39mcompletions\u001b[38;5;241m.\u001b[39mcreate(\n\u001b[1;32m     12\u001b[0m     model\u001b[38;5;241m=\u001b[39m\u001b[38;5;124m\"\u001b[39m\u001b[38;5;124mllama-3.3-70b-versatile\u001b[39m\u001b[38;5;124m\"\u001b[39m,\n\u001b[1;32m     13\u001b[0m     messages\u001b[38;5;241m=\u001b[39m[\n\u001b[1;32m     14\u001b[0m     {\n\u001b[1;32m     15\u001b[0m         \u001b[38;5;124m\"\u001b[39m\u001b[38;5;124mrole\u001b[39m\u001b[38;5;124m\"\u001b[39m: \u001b[38;5;124m\"\u001b[39m\u001b[38;5;124msystem\u001b[39m\u001b[38;5;124m\"\u001b[39m,\n\u001b[1;32m     16\u001b[0m         \u001b[38;5;124m\"\u001b[39m\u001b[38;5;124mcontent\u001b[39m\u001b[38;5;124m\"\u001b[39m: \u001b[38;5;124m\"\"\"\u001b[39m\n\u001b[1;32m     17\u001b[0m \u001b[38;5;124m        - The tone is polite, professional, and grammatically correct.\u001b[39m\n\u001b[1;32m     18\u001b[0m \u001b[38;5;124m        - The original meaning and context remain accurate.\u001b[39m\n\u001b[1;32m     19\u001b[0m \u001b[38;5;124m        - If the text sounds too casual or emotional, rephrase it into a neutral and refined style.\u001b[39m\u001b[38;5;124m\"\"\"\u001b[39m\n\u001b[1;32m     20\u001b[0m     },\n\u001b[1;32m     21\u001b[0m       {\n\u001b[1;32m     22\u001b[0m         \u001b[38;5;124m\"\u001b[39m\u001b[38;5;124mrole\u001b[39m\u001b[38;5;124m\"\u001b[39m: \u001b[38;5;124m\"\u001b[39m\u001b[38;5;124muser\u001b[39m\u001b[38;5;124m\"\u001b[39m,\n\u001b[0;32m---> 23\u001b[0m         \u001b[38;5;124m\"\u001b[39m\u001b[38;5;124mcontent\u001b[39m\u001b[38;5;124m\"\u001b[39m: \u001b[43mresult_data\u001b[49m\n\u001b[1;32m     24\u001b[0m       }\n\u001b[1;32m     25\u001b[0m     ],\n\u001b[1;32m     26\u001b[0m     temperature\u001b[38;5;241m=\u001b[39m\u001b[38;5;241m1\u001b[39m,\n\u001b[1;32m     27\u001b[0m     max_completion_tokens\u001b[38;5;241m=\u001b[39m\u001b[38;5;241m8192\u001b[39m,\n\u001b[1;32m     28\u001b[0m     top_p\u001b[38;5;241m=\u001b[39m\u001b[38;5;241m1\u001b[39m,\n\u001b[1;32m     29\u001b[0m     \u001b[38;5;66;03m#reasoning_effort=\"medium\",\u001b[39;00m\n\u001b[1;32m     30\u001b[0m     \u001b[38;5;66;03m#stream=True,\u001b[39;00m\n\u001b[1;32m     31\u001b[0m     \u001b[38;5;66;03m#stop=None\u001b[39;00m\n\u001b[1;32m     32\u001b[0m )\n\u001b[1;32m     34\u001b[0m result \u001b[38;5;241m=\u001b[39m completion\n",
      "\u001b[0;31mNameError\u001b[0m: name 'result_data' is not defined"
     ]
    }
   ],
   "source": [
    "from groq import Groq\n",
    "from dotenv import load_dotenv\n",
    "import os\n",
    "\n",
    "load_dotenv()\n",
    "\n",
    "GROQ_API_KEY = os.getenv(\"GROQ_API_KEY\")\n",
    "\n",
    "client = Groq(api_key=GROQ_API_KEY)\n",
    "\n",
    "completion = client.chat.completions.create(\n",
    "    model=\"llama-3.3-70b-versatile\",\n",
    "    messages=[\n",
    "    {\n",
    "        \"role\": \"system\",\n",
    "        \"content\": \"\"\"\n",
    "        - The tone is polite, professional, and grammatically correct.\n",
    "        - The original meaning and context remain accurate.\n",
    "        - If the text sounds too casual or emotional, rephrase it into a neutral and refined style.\"\"\"\n",
    "    },\n",
    "      {\n",
    "        \"role\": \"user\",\n",
    "        \"content\": result_data\n",
    "      }\n",
    "    ],\n",
    "    temperature=1,\n",
    "    max_completion_tokens=8192,\n",
    "    top_p=1,\n",
    "    #reasoning_effort=\"medium\",\n",
    "    #stream=True,\n",
    "    #stop=None\n",
    ")\n",
    "\n",
    "result = completion"
   ]
  },
  {
   "cell_type": "code",
   "execution_count": null,
   "id": "a9090297",
   "metadata": {},
   "outputs": [],
   "source": []
  }
 ],
 "metadata": {
  "kernelspec": {
   "display_name": "ai-banking-app-backend-x5LFxkJZ",
   "language": "python",
   "name": "python3"
  },
  "language_info": {
   "codemirror_mode": {
    "name": "ipython",
    "version": 3
   },
   "file_extension": ".py",
   "mimetype": "text/x-python",
   "name": "python",
   "nbconvert_exporter": "python",
   "pygments_lexer": "ipython3",
   "version": "3.9.6"
  }
 },
 "nbformat": 4,
 "nbformat_minor": 5
}
